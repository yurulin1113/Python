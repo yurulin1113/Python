{
 "metadata": {
  "language_info": {
   "codemirror_mode": {
    "name": "ipython",
    "version": 3
   },
   "file_extension": ".py",
   "mimetype": "text/x-python",
   "name": "python",
   "nbconvert_exporter": "python",
   "pygments_lexer": "ipython3",
   "version": "3.8.3-final"
  },
  "orig_nbformat": 2,
  "kernelspec": {
   "name": "python3",
   "display_name": "Python 3"
  }
 },
 "nbformat": 4,
 "nbformat_minor": 2,
 "cells": [
  {
   "cell_type": "code",
   "execution_count": 2,
   "metadata": {
    "tags": []
   },
   "outputs": [
    {
     "output_type": "stream",
     "name": "stdout",
     "text": "用戶輸出:\nNone\n"
    }
   ],
   "source": [
    "root = \"admin\"\n",
    "\n",
    "name = input('請輸入你的名稱：')\n",
    "\n",
    "print(\"用戶輸出:\"+name)\n",
    "\n",
    "if(name==root):\n",
    "   print(\"歡迎管理員\")\n",
    "else :\n",
    "   print(exit())  "
   ]
  },
  {
   "cell_type": "code",
   "execution_count": 15,
   "metadata": {
    "tags": []
   },
   "outputs": [
    {
     "output_type": "stream",
     "name": "stdout",
     "text": "你輸入的數字:\t4564\n偶數\n"
    }
   ],
   "source": [
    "#判斷奇數偶數\n",
    "num =  int(input('請輸入你的數字：'))\n",
    "\n",
    "print(f'你輸入的數字:\\t{num}')\n",
    "\n",
    "if(num%2==0):\n",
    "    print('偶數')\n",
    "else:\n",
    "    print('奇數')  \n",
    "\n"
   ]
  },
  {
   "cell_type": "code",
   "execution_count": 26,
   "metadata": {
    "tags": []
   },
   "outputs": [
    {
     "output_type": "stream",
     "name": "stdout",
     "text": "你輸入的年份:1979\n平年\n"
    }
   ],
   "source": [
    "#判斷年份\n",
    "num =  int(input('請輸入你的數字：'))\n",
    "\n",
    "print(f'你輸入的年份:{num}')\n",
    "\n",
    "if((num%4==0 and num%100!=0) or num%400==0 ):\n",
    "    print(\"閏年\")\n",
    "else:\n",
    "    print(\"平年\")    \n"
   ]
  },
  {
   "cell_type": "code",
   "execution_count": 1,
   "metadata": {
    "tags": []
   },
   "outputs": [
    {
     "output_type": "stream",
     "name": "stdout",
     "text": "人類:33歲\n"
    }
   ],
   "source": [
    "#狗人歲數\n",
    "\n",
    "people=0\n",
    "\n",
    "dog=5\n",
    "\n",
    "if(dog<=2):\n",
    "    people=dog*10.5\n",
    "\n",
    "else:\n",
    "      people= 21+(dog-2)*4\n",
    "\n",
    "\n",
    "print(\"人類:\"+str(people)+\"歲\")\n",
    "\n",
    "\n"
   ]
  },
  {
   "cell_type": "code",
   "execution_count": 7,
   "metadata": {
    "tags": []
   },
   "outputs": [
    {
     "output_type": "stream",
     "name": "stdout",
     "text": "1\n2\n3\n4\n5\n6\n7\n8\n9\n10\nelse中\n"
    }
   ],
   "source": [
    "i=0\n",
    "while i<10:\n",
    "    i+=1\n",
    "    print(i)\n",
    "else:\n",
    "    print(\"else中\")    "
   ]
  },
  {
   "cell_type": "code",
   "execution_count": 11,
   "metadata": {
    "tags": []
   },
   "outputs": [
    {
     "output_type": "stream",
     "name": "stdout",
     "text": "加總: 55\n"
    }
   ],
   "source": [
    "i=0\n",
    "result=0\n",
    "while i<10:\n",
    "    i+=1\n",
    "    result+=i\n",
    "print('加總:',result)"
   ]
  },
  {
   "cell_type": "code",
   "execution_count": 4,
   "metadata": {
    "tags": []
   },
   "outputs": [
    {
     "output_type": "stream",
     "name": "stdout",
     "text": "7\n14\n21\n28\n35\n42\n49\n56\n63\n70\n77\n84\n91\n98\n"
    }
   ],
   "source": [
    "i=0\n",
    "while i<100:\n",
    "    i+=1\n",
    "    if(i%7==0):\n",
    "       print(i)"
   ]
  },
  {
   "cell_type": "code",
   "execution_count": 4,
   "metadata": {
    "tags": []
   },
   "outputs": [
    {
     "output_type": "stream",
     "name": "stdout",
     "text": "2\n3\n5\n7\n11\n13\n17\n19\n23\n29\n31\n37\n41\n43\n47\n53\n59\n61\n67\n71\n73\n79\n83\n89\n97\n101\n103\n107\n109\n113\n127\n131\n137\n139\n149\n151\n157\n163\n167\n173\n179\n181\n191\n193\n197\n199\n211\n223\n227\n229\n233\n239\n241\n251\n257\n263\n269\n271\n277\n281\n283\n293\n307\n311\n313\n317\n331\n337\n347\n349\n353\n359\n367\n373\n379\n383\n389\n397\n401\n409\n419\n421\n431\n433\n439\n443\n449\n457\n461\n463\n467\n479\n487\n491\n499\n503\n509\n521\n523\n541\n547\n557\n563\n569\n571\n577\n587\n593\n599\n601\n607\n613\n617\n619\n631\n641\n643\n647\n653\n659\n661\n673\n677\n683\n691\n701\n709\n719\n727\n733\n739\n743\n751\n757\n761\n769\n773\n787\n797\n809\n811\n821\n823\n827\n829\n839\n853\n857\n859\n863\n877\n881\n883\n887\n907\n911\n919\n929\n937\n941\n947\n953\n967\n971\n977\n983\n991\n997\n總數:0\n"
    }
   ],
   "source": [
    "#質數\n",
    "i=2\n",
    "j=2\n",
    "count=0\n",
    "for i in range(2,1000):\n",
    "   for j in range(2,i):\n",
    "       if(i%j==0):  \n",
    "           break   \n",
    "   else:\n",
    "        print(i)\n",
    "print(\"總數:%d\"%count)"
   ]
  },
  {
   "cell_type": "code",
   "execution_count": 32,
   "metadata": {
    "tags": []
   },
   "outputs": [
    {
     "output_type": "stream",
     "name": "stdout",
     "text": "5\n"
    }
   ],
   "source": [
    "#質數2\n",
    "num=int(input(\"請輸入數字:\"))\n",
    "i=2\n",
    "flag=True\n",
    " \n",
    "while i<num: \n",
    "    if num%i==0:\n",
    "        flag=False\n",
    "        break  \n",
    "    i+=1\n",
    "\n",
    "if flag:\n",
    "        print(i)\n",
    "else :\n",
    "        print(\"不是\")        "
   ]
  },
  {
   "cell_type": "code",
   "execution_count": 6,
   "metadata": {
    "tags": []
   },
   "outputs": [
    {
     "output_type": "stream",
     "name": "stdout",
     "text": "水仙花數:\n153\n370\n371\n407\n"
    }
   ],
   "source": [
    "#水仙數\n",
    "i=100 \n",
    "print(\"水仙花數:\")      \n",
    "while i < 1000:\n",
    "    hun=i//100#百\n",
    "    ten=i//10%10#十\n",
    "    one=i%10#個位\n",
    "    if(hun**3+ten**3+one**3==i):\n",
    "        print(i)\n",
    "\n",
    "    i+=1\n"
   ]
  }
 ]
}